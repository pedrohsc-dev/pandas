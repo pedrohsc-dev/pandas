{
 "cells": [
  {
   "cell_type": "markdown",
   "metadata": {},
   "source": [
    "# Pandas\n",
    "\n",
    "**Sumário**\n",
    "\n",
    "* Pandas: por que e como usar?\n",
    "* O que é um pandas.Dataframe, pro que importa?\n",
    "* O que é um pandas.Series, por que importa?\n",
    "* Operações básicas: describe, mean, sum.\n",
    "* Acessando e manipulando dados: índices e labels.\n",
    "* Acessando e manipulando dados: colunas, masks e slices.\n",
    "* Dados ausentes e duplicados.\n",
    "* Operações com colunas e vetorização.\n",
    "* Conclusão e recursos adicionais. "
   ]
  },
  {
   "cell_type": "code",
   "execution_count": 15,
   "metadata": {},
   "outputs": [
    {
     "name": "stdout",
     "output_type": "stream",
     "text": [
      "{'Nome': ['Aluno1', 'Aluno2', 'Aluno3', 'Aluno4'], 'P1': [1.6, 7.5, 9, 5.5], 'P2': ['-', 6.5, 8, 8]}\n"
     ]
    }
   ],
   "source": [
    "import pandas as pd\n",
    "# Aqui temos uma estrutura de um dataframe sem utilzar o pandas\n",
    "ex_dict = {\"Nome\": [\"Aluno1\", \"Aluno2\", \"Aluno3\", \"Aluno4\"], \"P1\": [1.6, 7.5, 9, 5.5], \"P2\": [\"-\", 6.5, 8, 8]}\n",
    "\n",
    "print(ex_dict)"
   ]
  },
  {
   "cell_type": "code",
   "execution_count": 3,
   "metadata": {},
   "outputs": [
    {
     "name": "stdout",
     "output_type": "stream",
     "text": [
      "     Nome   P1   P2\n",
      "0  Aluno1  1.6    -\n",
      "1  Aluno2  7.5  6.5\n",
      "2  Aluno3  9.0    8\n",
      "3  Aluno4  5.5    8\n"
     ]
    }
   ],
   "source": [
    "# Agora veremos um dataframe utilizando o pandas apartir de um dicionário.\n",
    "\n",
    "dataframe = pd.DataFrame.from_dict(ex_dict)\n",
    "print(dataframe)"
   ]
  },
  {
   "cell_type": "code",
   "execution_count": 4,
   "metadata": {},
   "outputs": [
    {
     "name": "stdout",
     "output_type": "stream",
     "text": [
      "     Nome   P1   P2\n",
      "0  Aluno1  1.6    -\n",
      "1  Aluno2  7.5  6.5\n",
      "2  Aluno3  9.0    8\n",
      "3  Aluno4  5.5    8\n"
     ]
    }
   ],
   "source": [
    "# Gerando um dataframe apartir de uma lista de litas.\n",
    "\n",
    "lista = [[\"Aluno1\", 1.6, \"-\"], [\"Aluno2\", 7.5, 6.5], [\"Aluno3\", 9, 8], [\"Aluno4\", 5.5, 8]]\n",
    "\n",
    "dataframe2 = pd.DataFrame(lista, columns= [\"Nome\", \"P1\", \"P2\"])\n",
    "print(dataframe2)"
   ]
  },
  {
   "cell_type": "code",
   "execution_count": 5,
   "metadata": {},
   "outputs": [
    {
     "name": "stdout",
     "output_type": "stream",
     "text": [
      "0    1.6\n",
      "1    7.5\n",
      "2    9.0\n",
      "3    5.5\n",
      "dtype: float64\n"
     ]
    }
   ],
   "source": [
    "# Um series pode ser gerado apartir do comando pandas.Series()\n",
    "\n",
    "#Esse comando retornara um determinado valor da coluna que for explicitado como parâmetro.\n",
    "\n",
    "series = pd.Series(ex_dict[\"P1\"])\n",
    "print(series)"
   ]
  },
  {
   "cell_type": "code",
   "execution_count": 14,
   "metadata": {},
   "outputs": [
    {
     "name": "stdout",
     "output_type": "stream",
     "text": [
      "(16, 5)\n"
     ]
    }
   ],
   "source": [
    "df = pd.read_csv('ex_pandas_csv.csv', sep= \";\")\n",
    "\n",
    "# Este comando mostra a quantidade de linhas e de colunas.\n",
    "\n",
    "print(df.shape)"
   ]
  },
  {
   "cell_type": "code",
   "execution_count": 7,
   "metadata": {},
   "outputs": [
    {
     "name": "stdout",
     "output_type": "stream",
     "text": [
      "     Nome       Sexo   P1   P2 Frequência\n",
      "0  Aluno1  Masculino  1,6    -        50%\n",
      "1  Aluno2   Feminino  7,5  6,5        80%\n",
      "2  Aluno3  Masculino    9    8        90%\n",
      "3  Aluno4  Masculino  5,5    8        70%\n",
      "4  Aluno5  Masculino    7    8       100%\n"
     ]
    }
   ],
   "source": [
    "# Geralmente os DataFrames que são importados de terceiros vem com uma quantidade enorme de dados, então se usa este comando para que assim possa aparecer uma pequena porção deste dados, no caso deste comando como padrão ele mostra as cinco primeiras linhas do DataFrame ou o valor explicitado entre parênteses. \n",
    "\n",
    "print(df.head())"
   ]
  },
  {
   "cell_type": "code",
   "execution_count": 8,
   "metadata": {},
   "outputs": [
    {
     "name": "stdout",
     "output_type": "stream",
     "text": [
      "       Nome       Sexo   P1 P2 Frequência\n",
      "11  Aluno12   Feminino   10  -        70%\n",
      "12  Aluno13  Masculino  9,5  9       100%\n",
      "13  Aluno14   Feminino    8  9        80%\n",
      "14  Aluno15   Feminino    7  7        80%\n",
      "15  Aluno15   Feminino    7  7        80%\n"
     ]
    }
   ],
   "source": [
    "# De forma similar ao comando exemplificado anteriormente, o comando .tail ira mostrar as cinco ultimas linhas do DataFrame ou a quantidade que for solicitada como parãmetro. \n",
    "\n",
    "print(df.tail())"
   ]
  },
  {
   "cell_type": "code",
   "execution_count": 9,
   "metadata": {},
   "outputs": [
    {
     "name": "stdout",
     "output_type": "stream",
     "text": [
      "Index(['Nome', 'Sexo', 'P1', 'P2', 'Frequência'], dtype='object')\n"
     ]
    }
   ],
   "source": [
    "#O comoando .colimns ira mostrar os nomes das colunas do DataFrame.\n",
    "\n",
    "print(df.columns)"
   ]
  },
  {
   "cell_type": "code",
   "execution_count": 10,
   "metadata": {},
   "outputs": [
    {
     "name": "stdout",
     "output_type": "stream",
     "text": [
      "           Nome       Sexo  P1  P2 Frequência\n",
      "count        16         16  16  16         16\n",
      "unique       15          2  10   9          5\n",
      "top     Aluno15  Masculino   7   8        80%\n",
      "freq          2          8   4   3          6\n"
     ]
    }
   ],
   "source": [
    "# Este comando é interessante pra podermos analisar se temos dados duplicados ou faltando, uma vez que ele nos rtornar a contagem de dados presente em cada coluna, utilizando dos seguintes identificadores:\n",
    "\n",
    "# count: Esta linha mostra a contagem de valores não nulos em cada coluna. No seu caso, há 16 observações em todas as colunas,\n",
    "# o que significa que não há valores ausentes (NaN) em nenhuma das colunas.\n",
    "\n",
    "# unique: Esta linha mostra o número de valores exclusivos em cada coluna. Por exemplo, na coluna \"Nome\", há 15 valores exclusivos,\n",
    "# o que significa que um nome se repete, e na coluna \"Sexo\", há 2 valores exclusivos (Masculino e Feminino).\n",
    "\n",
    "# top: Esta linha mostra o valor mais frequente em cada coluna. Por exemplo, na coluna \"Nome\", \"Aluno15\" é o valor mais frequente,\n",
    "# aparecendo duas vezes, e na coluna \"Sexo\", \"Masculino\" é o valor mais frequente, aparecendo oito vezes.\n",
    "\n",
    "# freq: Esta linha mostra a contagem da frequência do valor mais frequente em cada coluna. Por exemplo, na coluna \"Nome\", \"Aluno15\" aparece duas vezes,\n",
    "# e na coluna \"Sexo\", \"Masculino\" aparece oito vezes.\n",
    "\n",
    "\n",
    "print(df.describe())"
   ]
  },
  {
   "cell_type": "code",
   "execution_count": 11,
   "metadata": {},
   "outputs": [
    {
     "name": "stdout",
     "output_type": "stream",
     "text": [
      "Nome          Aluno1Aluno2Aluno3Aluno4Aluno5Aluno6Aluno7Alun...\n",
      "Sexo          MasculinoFemininoMasculinoMasculinoMasculinoFe...\n",
      "P1                                    1,67,595,57854578109,5877\n",
      "P2                                     -6,588875,53,547,59-9977\n",
      "Frequência    50%80%90%70%100%80%90%90%70%80%70%70%100%80%80...\n",
      "dtype: object\n"
     ]
    }
   ],
   "source": [
    "# Aqui nos iremos nos deparar com uum problema, pois este comando é o comando que de somar os dados do nosso DataFrame, no entanto por muitas vzes acontecer de recebermos DataFrame de terceiros seus valores podem vir em formato de string, de modo que, ao invés de somar ele ira concatenar os valores. \n",
    "\n",
    "print(df.sum())"
   ]
  },
  {
   "cell_type": "code",
   "execution_count": 16,
   "metadata": {},
   "outputs": [],
   "source": [
    "# Trasnormando os valores string em númerais.\n",
    "# Nestes dois trechos de códigos, trocaremos as vírgulas por pontos com o comando replace junto ao parâmetro regex=True para que substitua dentro de todas as strings e após isto usamos o comando astype para trasnformar os os valores que até então eram strings em valores floats, usando o parâmetro para ignorar os eros.  \n",
    "df[\"P1\"] = df[\"P1\"].str.replace(\",\", \".\", regex=True).astype(\"float\", errors=\"ignore\")\n",
    "df[\"P2\"] = df[\"P2\"].str.replace(\",\", \".\", regex=True).astype(\"float\", errors=\"ignore\")\n",
    "\n",
    "df[\"P2\"] = pd.to_numeric(df[\"P2\"], errors=\"coerce\")\n",
    "\n",
    "df[\"Frequência\"] = df[\"Frequência\"].str.strip(\"%\").astype(\"float\", errors=\"ignore\") / 100\n"
   ]
  }
 ],
 "metadata": {
  "kernelspec": {
   "display_name": "Python 3",
   "language": "python",
   "name": "python3"
  },
  "language_info": {
   "codemirror_mode": {
    "name": "ipython",
    "version": 3
   },
   "file_extension": ".py",
   "mimetype": "text/x-python",
   "name": "python",
   "nbconvert_exporter": "python",
   "pygments_lexer": "ipython3",
   "version": "3.11.6"
  }
 },
 "nbformat": 4,
 "nbformat_minor": 2
}
