{
 "cells": [
  {
   "cell_type": "markdown",
   "metadata": {},
   "source": [
    "# Pandas\n",
    "\n",
    "**Sumário**\n",
    "\n",
    "* Pandas: por que e como usar?\n",
    "* O que é um pandas.Dataframe, pro que importa?\n",
    "* O que é um pandas.Series, por que importa?\n",
    "* Operações básicas: describe, mean, sum.\n",
    "* Acessando e manipulando dados: índices e labels.\n",
    "* Acessando e manipulando dados: colunas, masks e slices.\n",
    "* Dados ausentes e duplicados.\n",
    "* Operações com colunas e vetorização.\n",
    "* Conclusão e recursos adicionais. "
   ]
  },
  {
   "cell_type": "code",
   "execution_count": 17,
   "metadata": {},
   "outputs": [
    {
     "name": "stdout",
     "output_type": "stream",
     "text": [
      "{'Nome': ['Aluno1', 'Aluno2', 'Aluno3', 'Aluno4'], 'P1': [1.6, 7.5, 9, 5.5], 'P2': ['-', 6.5, 8, 8]}\n"
     ]
    }
   ],
   "source": [
    "import pandas as pd\n",
    "# Aqui temos uma estrutura de um dataframe sem utilzar o pandas\n",
    "ex_dict = {\"Nome\": [\"Aluno1\", \"Aluno2\", \"Aluno3\", \"Aluno4\"], \"P1\": [1.6, 7.5, 9, 5.5], \"P2\": [\"-\", 6.5, 8, 8]}\n",
    "\n",
    "print(ex_dict)"
   ]
  },
  {
   "cell_type": "code",
   "execution_count": 18,
   "metadata": {},
   "outputs": [
    {
     "name": "stdout",
     "output_type": "stream",
     "text": [
      "     Nome   P1   P2\n",
      "0  Aluno1  1.6    -\n",
      "1  Aluno2  7.5  6.5\n",
      "2  Aluno3  9.0    8\n",
      "3  Aluno4  5.5    8\n"
     ]
    }
   ],
   "source": [
    "# Agora veremos um dataframe utilizando o pandas apartir de um dicionário.\n",
    "\n",
    "dataframe = pd.DataFrame.from_dict(ex_dict)\n",
    "print(dataframe)"
   ]
  },
  {
   "cell_type": "code",
   "execution_count": 19,
   "metadata": {},
   "outputs": [
    {
     "name": "stdout",
     "output_type": "stream",
     "text": [
      "     Nome   P1   P2\n",
      "0  Aluno1  1.6    -\n",
      "1  Aluno2  7.5  6.5\n",
      "2  Aluno3  9.0    8\n",
      "3  Aluno4  5.5    8\n"
     ]
    }
   ],
   "source": [
    "# Gerando um dataframe apartir de uma lista de litas.\n",
    "\n",
    "lista = [[\"Aluno1\", 1.6, \"-\"], [\"Aluno2\", 7.5, 6.5], [\"Aluno3\", 9, 8], [\"Aluno4\", 5.5, 8]]\n",
    "\n",
    "dataframe2 = pd.DataFrame(lista, columns= [\"Nome\", \"P1\", \"P2\"])\n",
    "print(dataframe2)"
   ]
  },
  {
   "cell_type": "code",
   "execution_count": 20,
   "metadata": {},
   "outputs": [
    {
     "name": "stdout",
     "output_type": "stream",
     "text": [
      "0    1.6\n",
      "1    7.5\n",
      "2    9.0\n",
      "3    5.5\n",
      "dtype: float64\n"
     ]
    }
   ],
   "source": [
    "# Um series pode ser gerado apartir do comando pandas.Series()\n",
    "\n",
    "#Esse comando retornara os valores da coluna que for explicitado como parâmetro.\n",
    "\n",
    "series = pd.Series(ex_dict[\"P1\"])\n",
    "print(series)"
   ]
  },
  {
   "cell_type": "code",
   "execution_count": 21,
   "metadata": {},
   "outputs": [
    {
     "name": "stdout",
     "output_type": "stream",
     "text": [
      "(16, 5)\n"
     ]
    }
   ],
   "source": [
    "# Abrindo um arquivo externo de planilhas com o comando .read_csv\n",
    "\n",
    "df = pd.read_csv('ex_pandas_csv.csv', sep= \";\")\n",
    "\n",
    "# Este comando mostra a quantidade de linhas e de colunas.\n",
    "\n",
    "print(df.shape)"
   ]
  },
  {
   "cell_type": "code",
   "execution_count": 22,
   "metadata": {},
   "outputs": [
    {
     "name": "stdout",
     "output_type": "stream",
     "text": [
      "     Nome       Sexo   P1   P2 Frequência\n",
      "0  Aluno1  Masculino  1,6    -        50%\n",
      "1  Aluno2   Feminino  7,5  6,5        80%\n",
      "2  Aluno3  Masculino    9    8        90%\n",
      "3  Aluno4  Masculino  5,5    8        70%\n",
      "4  Aluno5  Masculino    7    8       100%\n"
     ]
    }
   ],
   "source": [
    "# Geralmente os DataFrames que são importados de terceiros vem com uma quantidade enorme de dados, então se usa este comando para que assim possa aparecer uma pequena porção deste dados, no caso deste comando como padrão ele mostra as cinco primeiras linhas do DataFrame ou o valor explicitado entre parênteses. \n",
    "\n",
    "print(df.head())"
   ]
  },
  {
   "cell_type": "code",
   "execution_count": 23,
   "metadata": {},
   "outputs": [
    {
     "name": "stdout",
     "output_type": "stream",
     "text": [
      "       Nome       Sexo   P1 P2 Frequência\n",
      "11  Aluno12   Feminino   10  -        70%\n",
      "12  Aluno13  Masculino  9,5  9       100%\n",
      "13  Aluno14   Feminino    8  9        80%\n",
      "14  Aluno15   Feminino    7  7        80%\n",
      "15  Aluno15   Feminino    7  7        80%\n"
     ]
    }
   ],
   "source": [
    "# De forma similar ao comando exemplificado anteriormente, o comando .tail ira mostrar as cinco ultimas linhas do DataFrame ou a quantidade que for solicitada como parãmetro. \n",
    "\n",
    "print(df.tail())"
   ]
  },
  {
   "cell_type": "code",
   "execution_count": 24,
   "metadata": {},
   "outputs": [
    {
     "name": "stdout",
     "output_type": "stream",
     "text": [
      "Index(['Nome', 'Sexo', 'P1', 'P2', 'Frequência'], dtype='object')\n"
     ]
    }
   ],
   "source": [
    "#O comoando .columns ira mostrar os nomes das colunas do DataFrame e tipo de dados dela.\n",
    "\n",
    "print(df.columns)"
   ]
  },
  {
   "cell_type": "code",
   "execution_count": 25,
   "metadata": {},
   "outputs": [
    {
     "name": "stdout",
     "output_type": "stream",
     "text": [
      "           Nome       Sexo  P1  P2 Frequência\n",
      "count        16         16  16  16         16\n",
      "unique       15          2  10   9          5\n",
      "top     Aluno15  Masculino   7   8        80%\n",
      "freq          2          8   4   3          6\n"
     ]
    }
   ],
   "source": [
    "# Os  comandos são interessantes pois podemos analisar se temos dados duplicados ou faltando, uma vez que ele nos retornar a contagem de dados presente em cada coluna, utilizando dos seguintes identificadores:\n",
    "\n",
    "# count: Esta linha mostra a contagem de valores não nulos em cada coluna. No seu caso, há 16 observações em todas as colunas,\n",
    "# o que significa que não há valores ausentes (NaN) em nenhuma das colunas.\n",
    "\n",
    "# unique: Esta linha mostra o número de valores exclusivos em cada coluna. Por exemplo, na coluna \"Nome\", há 15 valores exclusivos,\n",
    "# o que significa que um nome se repete, e na coluna \"Sexo\", há 2 valores exclusivos (Masculino e Feminino).\n",
    "\n",
    "# top: Esta linha mostra o valor mais frequente em cada coluna. Por exemplo, na coluna \"Nome\", \"Aluno15\" é o valor mais frequente,\n",
    "# aparecendo duas vezes, e na coluna \"Sexo\", \"Masculino\" é o valor mais frequente, aparecendo oito vezes.\n",
    "\n",
    "# freq: Esta linha mostra a contagem da frequência do valor mais frequente em cada coluna. Por exemplo, na coluna \"Nome\", \"Aluno15\" aparece duas vezes,\n",
    "# e na coluna \"Sexo\", \"Masculino\" aparece oito vezes.\n",
    "\n",
    "\n",
    "print(df.describe())"
   ]
  },
  {
   "cell_type": "code",
   "execution_count": 26,
   "metadata": {},
   "outputs": [
    {
     "name": "stdout",
     "output_type": "stream",
     "text": [
      "Nome          Aluno1Aluno2Aluno3Aluno4Aluno5Aluno6Aluno7Alun...\n",
      "Sexo          MasculinoFemininoMasculinoMasculinoMasculinoFe...\n",
      "P1                                    1,67,595,57854578109,5877\n",
      "P2                                     -6,588875,53,547,59-9977\n",
      "Frequência    50%80%90%70%100%80%90%90%70%80%70%70%100%80%80...\n",
      "dtype: object\n"
     ]
    }
   ],
   "source": [
    "# Aqui nos iremos nos deparar com uum problema, pois este comando é o comando que de somar os dados do nosso DataFrame, no entanto por muitas vzes acontecer de recebermos DataFrame de terceiros seus valores podem vir em formato de string, de modo que, ao invés de somar ele ira concatenar os valores. \n",
    "\n",
    "print(df.sum())"
   ]
  },
  {
   "cell_type": "code",
   "execution_count": 27,
   "metadata": {},
   "outputs": [
    {
     "name": "stdout",
     "output_type": "stream",
     "text": [
      "       Nome       Sexo    P1   P2  Frequência\n",
      "0    Aluno1  Masculino   1.6  NaN         0.5\n",
      "1    Aluno2   Feminino   7.5  6.5         0.8\n",
      "2    Aluno3  Masculino   9.0  8.0         0.9\n",
      "3    Aluno4  Masculino   5.5  8.0         0.7\n",
      "4    Aluno5  Masculino   7.0  8.0         1.0\n",
      "5    Aluno6   Feminino   8.0  7.0         0.8\n",
      "6    Aluno7  Masculino   5.0  5.5         0.9\n",
      "7    Aluno8  Masculino   4.0  3.5         0.9\n",
      "8    Aluno9   Feminino   5.0  4.0         0.7\n",
      "9   Aluno10   Feminino   7.0  7.5         0.8\n",
      "10  Aluno11  Masculino   8.0  9.0         0.7\n",
      "11  Aluno12   Feminino  10.0  NaN         0.7\n",
      "12  Aluno13  Masculino   9.5  9.0         1.0\n",
      "13  Aluno14   Feminino   8.0  9.0         0.8\n",
      "14  Aluno15   Feminino   7.0  7.0         0.8\n",
      "15  Aluno15   Feminino   7.0  7.0         0.8\n",
      "------------------------------------------------------------\n",
      "Nome          Aluno1Aluno2Aluno3Aluno4Aluno5Aluno6Aluno7Alun...\n",
      "Sexo          MasculinoFemininoMasculinoMasculinoMasculinoFe...\n",
      "P1                                                        109.1\n",
      "P2                                                         99.0\n",
      "Frequência                                                 12.8\n",
      "dtype: object\n"
     ]
    }
   ],
   "source": [
    "# Trasnormando os valores string em númerais.\n",
    "\n",
    "# Nestes dois trechos de códigos, trocaremos as vírgulas por pontos com o comando replace junto ao parâmetro regex=True para que substitua dentro de todas as strings e após isto usamos o comando astype para trasnformar os os valores que até então eram strings em valores floats, usando o parâmetro errors=\"ignore\", para ignorar possiveis erros gerados na conversão da string para floats.  \n",
    "\n",
    "df[\"P1\"] = df[\"P1\"].str.replace(\",\", \".\", regex=True).astype(\"float\", errors=\"ignore\")\n",
    "df[\"P2\"] = df[\"P2\"].str.replace(\",\", \".\", regex=True).astype(\"float\", errors=\"ignore\")\n",
    "\n",
    "# Aqui transformaremos todos os valores da coluna P2 e valores númericos e onde não tiver número será completo com o alor NaN(none as numric)\n",
    "df[\"P2\"] = pd.to_numeric(df[\"P2\"], errors=\"coerce\")\n",
    "\n",
    "# Na coluna Frequência usarmemos o comando .strip para removermos os símbolo de porcentagem, em seguida os transformaremos em floats e dividiriremos por 100 para continuar a operação dee porcentagem.  \n",
    "df[\"Frequência\"] = df[\"Frequência\"].str.strip(\"%\").astype(\"float\", errors=\"ignore\") / 100\n",
    "print(df)\n",
    "print(\"-\" * 60)\n",
    "print(df.sum())\n"
   ]
  },
  {
   "cell_type": "code",
   "execution_count": 28,
   "metadata": {},
   "outputs": [
    {
     "name": "stdout",
     "output_type": "stream",
     "text": [
      "P1            6.818750\n",
      "P2            7.071429\n",
      "Frequência    0.800000\n",
      "dtype: float64\n"
     ]
    }
   ],
   "source": [
    "# O comando .mean(numeric_only=True) retorna a média entre os dados númericos.\n",
    "print(df.mean(numeric_only=True))"
   ]
  },
  {
   "cell_type": "markdown",
   "metadata": {},
   "source": [
    "# índices e localização dos dados no Dataframe.\n",
    "\n",
    "Podemos localizar um dado especifico no DataFrame apartir do índice referente a linha desejada, ou do nome de sua coluna."
   ]
  },
  {
   "cell_type": "code",
   "execution_count": 29,
   "metadata": {},
   "outputs": [
    {
     "name": "stdout",
     "output_type": "stream",
     "text": [
      "       Nome       Sexo    P1   P2  Frequência\n",
      "0    Aluno1  Masculino   1.6  NaN         0.5\n",
      "1    Aluno2   Feminino   7.5  6.5         0.8\n",
      "2    Aluno3  Masculino   9.0  8.0         0.9\n",
      "3    Aluno4  Masculino   5.5  8.0         0.7\n",
      "4    Aluno5  Masculino   7.0  8.0         1.0\n",
      "5    Aluno6   Feminino   8.0  7.0         0.8\n",
      "6    Aluno7  Masculino   5.0  5.5         0.9\n",
      "7    Aluno8  Masculino   4.0  3.5         0.9\n",
      "8    Aluno9   Feminino   5.0  4.0         0.7\n",
      "9   Aluno10   Feminino   7.0  7.5         0.8\n",
      "10  Aluno11  Masculino   8.0  9.0         0.7\n",
      "11  Aluno12   Feminino  10.0  NaN         0.7\n",
      "12  Aluno13  Masculino   9.5  9.0         1.0\n",
      "13  Aluno14   Feminino   8.0  9.0         0.8\n",
      "14  Aluno15   Feminino   7.0  7.0         0.8\n",
      "15  Aluno15   Feminino   7.0  7.0         0.8\n"
     ]
    }
   ],
   "source": [
    "print(df)"
   ]
  },
  {
   "cell_type": "code",
   "execution_count": 30,
   "metadata": {},
   "outputs": [
    {
     "data": {
      "text/plain": [
       "0      1.6\n",
       "1      7.5\n",
       "2      9.0\n",
       "3      5.5\n",
       "4      7.0\n",
       "5      8.0\n",
       "6      5.0\n",
       "7      4.0\n",
       "8      5.0\n",
       "9      7.0\n",
       "10     8.0\n",
       "11    10.0\n",
       "12     9.5\n",
       "13     8.0\n",
       "14     7.0\n",
       "15     7.0\n",
       "Name: P1, dtype: float64"
      ]
     },
     "execution_count": 30,
     "metadata": {},
     "output_type": "execute_result"
    }
   ],
   "source": [
    "# Os dados de uma coluna podem serem acessado da seguinte maneira nome_dataframe[\"nome coluna\"] retornando assim um series.\n",
    "\n",
    "df[\"P1\"]"
   ]
  },
  {
   "cell_type": "code",
   "execution_count": 31,
   "metadata": {},
   "outputs": [
    {
     "name": "stdout",
     "output_type": "stream",
     "text": [
      "6.81875 <class 'numpy.float64'>\n",
      "A média da prova 1 foi de 6.82 e o desvio padrão de 2.17\n"
     ]
    }
   ],
   "source": [
    "# Desta forma podemos trabalhar com operações somente desta coluna do dataframe se for preciso. Por exemplo calculando a média desta coluna com o comando .mean e o seu desvio padrão com o comando .std \n",
    "\n",
    "media_col1 = df[\"P1\"].mean()\n",
    "print(media_col1, type(media_col1))\n",
    "\n",
    "desvio_padrao_col1 = df[\"P1\"].std()\n",
    "print(\"A média da prova 1 foi de {:.2f} e o desvio padrão de {:.2f}\".format(media_col1, desvio_padrao_col1))\n"
   ]
  },
  {
   "cell_type": "code",
   "execution_count": 32,
   "metadata": {},
   "outputs": [
    {
     "name": "stdout",
     "output_type": "stream",
     "text": [
      "7.071428571428571 <class 'numpy.float64'>\n",
      "A média da prova 2 foi de 7.07 e o desvio padrão de 1.73\n"
     ]
    }
   ],
   "source": [
    "# O mesmo pode ser feito na coluna P2.\n",
    "\n",
    "media_col2 = df[\"P2\"].mean()\n",
    "print(media_col2, type(media_col2))\n",
    "\n",
    "desvio_padrao_col2 = df[\"P2\"].std()\n",
    "print(\"A média da prova 2 foi de {:.2f} e o desvio padrão de {:.2f}\".format(media_col2, desvio_padrao_col2))\n"
   ]
  },
  {
   "cell_type": "code",
   "execution_count": 33,
   "metadata": {},
   "outputs": [
    {
     "name": "stdout",
     "output_type": "stream",
     "text": [
      "      P1   P2\n",
      "0    1.6  NaN\n",
      "1    7.5  6.5\n",
      "2    9.0  8.0\n",
      "3    5.5  8.0\n",
      "4    7.0  8.0\n",
      "5    8.0  7.0\n",
      "6    5.0  5.5\n",
      "7    4.0  3.5\n",
      "8    5.0  4.0\n",
      "9    7.0  7.5\n",
      "10   8.0  9.0\n",
      "11  10.0  NaN\n",
      "12   9.5  9.0\n",
      "13   8.0  9.0\n",
      "14   7.0  7.0\n",
      "15   7.0  7.0\n"
     ]
    }
   ],
   "source": [
    "# Pode-se acessar também mais de uma coluna de uma só vez. \n",
    "# Da seguinte maneira: nome_dataframe[[lista com os nomes das colunas]]\n",
    "\n",
    "print(df[[\"P1\", \"P2\"]])"
   ]
  },
  {
   "cell_type": "code",
   "execution_count": 34,
   "metadata": {},
   "outputs": [
    {
     "name": "stdout",
     "output_type": "stream",
     "text": [
      "     Nome       Sexo   P1   P2  Freq.\n",
      "0  Aluno1  Masculino  1.6  NaN    0.5\n",
      "1  Aluno2   Feminino  7.5  6.5    0.8\n",
      "2  Aluno3  Masculino  9.0  8.0    0.9\n",
      "3  Aluno4  Masculino  5.5  8.0    0.7\n"
     ]
    }
   ],
   "source": [
    "# Podemos também renomear os nomes das colunas quando  se fazer necessário.\n",
    "# Para isto utilizamos uma estrutura semelhante a de um dicionário.\n",
    "\n",
    "# Nome_datafram.rename(columns={\"nome_antigo_coluna1\" : \"nome_novo_coluna1\", \"nome_antigo_coluna2\" : \"nome_novo_coluna2\"})\n",
    "\n",
    "dados = df.rename(columns={\"Frequência\" : \"Freq.\"})\n",
    "print(dados.head(4))"
   ]
  }
 ],
 "metadata": {
  "kernelspec": {
   "display_name": "Python 3",
   "language": "python",
   "name": "python3"
  },
  "language_info": {
   "codemirror_mode": {
    "name": "ipython",
    "version": 3
   },
   "file_extension": ".py",
   "mimetype": "text/x-python",
   "name": "python",
   "nbconvert_exporter": "python",
   "pygments_lexer": "ipython3",
   "version": "3.11.6"
  }
 },
 "nbformat": 4,
 "nbformat_minor": 2
}
