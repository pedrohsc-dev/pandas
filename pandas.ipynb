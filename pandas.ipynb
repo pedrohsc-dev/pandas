{
 "cells": [
  {
   "cell_type": "markdown",
   "metadata": {},
   "source": [
    "# Pandas\n",
    "\n",
    "**Sumário**\n",
    "\n",
    "* Pandas: por que e como usar?\n",
    "* O que é um pandas.Dataframe, pro que importa?\n",
    "* O que é um pandas.Series, por que importa?\n",
    "* Operações básicas: describe, mean, sum.\n",
    "* Acessando e manipulando dados: índices e labels.\n",
    "* Acessando e manipulando dados: colunas, masks e slices.\n",
    "* Dados ausentes e duplicados.\n",
    "* Operações com colunas e vetorização.\n",
    "* Conclusão e recursos adicionais. "
   ]
  },
  {
   "cell_type": "code",
   "execution_count": 1,
   "metadata": {},
   "outputs": [
    {
     "name": "stdout",
     "output_type": "stream",
     "text": [
      "{'Nome': ['Aluno1', 'Aluno2', 'Aluno3', 'Aluno4'], 'P1': [1.6, 7.5, 9, 5.5], 'P2': ['-', 6.5, 8, 8]}\n"
     ]
    }
   ],
   "source": [
    "import pandas as pd\n",
    "# Aqui temos uma estrutura de um dataframe sem utilzar o pandas\n",
    "ex_dict = {\"Nome\": [\"Aluno1\", \"Aluno2\", \"Aluno3\", \"Aluno4\"], \"P1\": [1.6, 7.5, 9, 5.5], \"P2\": [\"-\", 6.5, 8, 8]}\n",
    "\n",
    "print(ex_dict)"
   ]
  },
  {
   "cell_type": "code",
   "execution_count": 2,
   "metadata": {},
   "outputs": [
    {
     "name": "stdout",
     "output_type": "stream",
     "text": [
      "     Nome   P1   P2\n",
      "0  Aluno1  1.6    -\n",
      "1  Aluno2  7.5  6.5\n",
      "2  Aluno3  9.0    8\n",
      "3  Aluno4  5.5    8\n"
     ]
    }
   ],
   "source": [
    "# Agora veremos um dataframe utilizando o pandas apartir de um dicionário.\n",
    "\n",
    "dataframe = pd.DataFrame.from_dict(ex_dict)\n",
    "print(dataframe)"
   ]
  },
  {
   "cell_type": "code",
   "execution_count": 3,
   "metadata": {},
   "outputs": [
    {
     "name": "stdout",
     "output_type": "stream",
     "text": [
      "     Nome   P1   P2\n",
      "0  Aluno1  1.6    -\n",
      "1  Aluno2  7.5  6.5\n",
      "2  Aluno3  9.0    8\n",
      "3  Aluno4  5.5    8\n"
     ]
    }
   ],
   "source": [
    "# Gerando um dataframe apartir de uma lista de litas.\n",
    "\n",
    "lista = [[\"Aluno1\", 1.6, \"-\"], [\"Aluno2\", 7.5, 6.5], [\"Aluno3\", 9, 8], [\"Aluno4\", 5.5, 8]]\n",
    "\n",
    "dataframe2 = pd.DataFrame(lista, columns= [\"Nome\", \"P1\", \"P2\"])\n",
    "print(dataframe2)"
   ]
  },
  {
   "cell_type": "code",
   "execution_count": 5,
   "metadata": {},
   "outputs": [
    {
     "name": "stdout",
     "output_type": "stream",
     "text": [
      "0    1.6\n",
      "1    7.5\n",
      "2    9.0\n",
      "3    5.5\n",
      "dtype: float64\n"
     ]
    }
   ],
   "source": [
    "# Um series pode ser gerado apartir do comando pandas.Series()\n",
    "\n",
    "#Esse comando retornara um determinado valor que for explicitado como parâmetro.\n",
    "\n",
    "series = pd.Series(ex_dict[\"P1\"])\n",
    "print(series)"
   ]
  }
 ],
 "metadata": {
  "kernelspec": {
   "display_name": "Python 3",
   "language": "python",
   "name": "python3"
  },
  "language_info": {
   "codemirror_mode": {
    "name": "ipython",
    "version": 3
   },
   "file_extension": ".py",
   "mimetype": "text/x-python",
   "name": "python",
   "nbconvert_exporter": "python",
   "pygments_lexer": "ipython3",
   "version": "3.11.6"
  }
 },
 "nbformat": 4,
 "nbformat_minor": 2
}
